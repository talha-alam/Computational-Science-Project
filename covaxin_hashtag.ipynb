{
 "cells": [
  {
   "cell_type": "markdown",
   "metadata": {},
   "source": [
    "# Code to Extract Images from Instagram"
   ]
  },
  {
   "cell_type": "code",
   "execution_count": 1,
   "metadata": {},
   "outputs": [],
   "source": [
    "#imports here\n",
    "from selenium import webdriver\n",
    "from selenium.webdriver.common.keys import Keys\n",
    "from selenium.webdriver.support import expected_conditions as EC\n",
    "from selenium.webdriver.common.by import By\n",
    "from selenium.webdriver.support.wait import WebDriverWait\n",
    "import time"
   ]
  },
  {
   "cell_type": "markdown",
   "metadata": {},
   "source": [
    "## Downloaded ChromeDriver\n",
    "\n",
    "## Code to login to the Instagram Account"
   ]
  },
  {
   "cell_type": "code",
   "execution_count": 2,
   "metadata": {},
   "outputs": [],
   "source": [
    "#path to chromedriver.exe\n",
    "driver = webdriver.Chrome('C:/Users/talha/Downloads/chromedriver_win32/chromedriver.exe')\n",
    "\n",
    "#opening the webpage\n",
    "driver.get(\"http://www.instagram.com\")\n",
    "\n",
    "#targeting username\n",
    "username = WebDriverWait(driver, 10).until(EC.element_to_be_clickable((By.CSS_SELECTOR, \"input[name='username']\")))\n",
    "password = WebDriverWait(driver, 10).until(EC.element_to_be_clickable((By.CSS_SELECTOR, \"input[name='password']\")))\n",
    "\n",
    "#entering username and password\n",
    "username.clear()\n",
    "username.send_keys(\"username\")\n",
    "password.clear()\n",
    "password.send_keys(\"password\")\n",
    "\n",
    "#targeting the login button and click it\n",
    "button = WebDriverWait(driver, 2).until(EC.element_to_be_clickable((By.CSS_SELECTOR, \"button[type='submit']\"))).click()\n",
    "\n",
    "#We are logged in!"
   ]
  },
  {
   "cell_type": "markdown",
   "metadata": {},
   "source": [
    "## Code to Handle Alerts\n",
    "\n",
    "I got 2 of them and handled accordingly\n",
    "<br>\n"
   ]
  },
  {
   "cell_type": "code",
   "execution_count": 3,
   "metadata": {},
   "outputs": [],
   "source": [
    "time.sleep(5)\n",
    "alert = WebDriverWait(driver, 15).until(EC.element_to_be_clickable((By.XPATH, '//button[contains(text(), \"Not Now\")]'))).click()\n",
    "alert2 = WebDriverWait(driver, 15).until(EC.element_to_be_clickable((By.XPATH, '//button[contains(text(), \"Not Now\")]'))).click()"
   ]
  },
  {
   "cell_type": "markdown",
   "metadata": {},
   "source": [
    "## Searched for a 'covaxin' hashtag"
   ]
  },
  {
   "cell_type": "code",
   "execution_count": 4,
   "metadata": {},
   "outputs": [],
   "source": [
    "#targeted the search input field\n",
    "searchbox = WebDriverWait(driver, 10).until(EC.element_to_be_clickable((By.XPATH, \"//input[@placeholder='Search']\")))\n",
    "searchbox.clear()\n",
    "\n",
    "#searched for the hashtag cat\n",
    "keyword = \"#covaxin\"\n",
    "searchbox.send_keys(keyword)\n",
    " \n",
    "#FIXING THE DOUBLE ENTER\n",
    "time.sleep(5) # Wait for 5 seconds\n",
    "my_link = WebDriverWait(driver, 10).until(EC.element_to_be_clickable((By.XPATH, \"//a[contains(@href, '/\" + keyword[1:] + \"/')]\")))\n",
    "my_link.click()"
   ]
  },
  {
   "cell_type": "markdown",
   "metadata": {},
   "source": [
    "## Code to Scroll Down\n",
    "<br>\n",
    "Will increase n_scrolls to select more photos (depending on screen resolution)\n",
    "<br>\n",
    "<b>Example:</b>\n",
    "<br>\n",
    "<ul>\n",
    "    <li>2 scrolls cover approx. 35 photos</li>\n",
    "    <li>3 scrolls cover approx. 45 photos</li>\n",
    "</ul>"
   ]
  },
  {
   "cell_type": "code",
   "execution_count": 5,
   "metadata": {},
   "outputs": [],
   "source": [
    "#scroll down 2 times\n",
    "#increase the range to sroll more\n",
    "n_scrolls = 2\n",
    "for j in range(0, n_scrolls):\n",
    "    driver.execute_script(\"window.scrollTo(0, document.body.scrollHeight);\")\n",
    "    time.sleep(5)"
   ]
  },
  {
   "cell_type": "code",
   "execution_count": 6,
   "metadata": {},
   "outputs": [
    {
     "name": "stdout",
     "output_type": "stream",
     "text": [
      "Found 33 links to images\n"
     ]
    },
    {
     "data": {
      "text/plain": [
       "['https://www.instagram.com/p/CRBp0RmHdRI/',\n",
       " 'https://www.instagram.com/p/CRGB9oQLuqa/',\n",
       " 'https://www.instagram.com/p/CQwEHBvMuMm/',\n",
       " 'https://www.instagram.com/p/CRGlsfCB3eJ/',\n",
       " 'https://www.instagram.com/p/CQ3OVuVpTZz/']"
      ]
     },
     "execution_count": 6,
     "metadata": {},
     "output_type": "execute_result"
    }
   ],
   "source": [
    "#target all the link elements on the page\n",
    "anchors = driver.find_elements_by_tag_name('a')\n",
    "anchors = [a.get_attribute('href') for a in anchors]\n",
    "#narrow down all links to image links only\n",
    "anchors = [a for a in anchors if str(a).startswith(\"https://www.instagram.com/p/\")]\n",
    "\n",
    "print('Found ' + str(len(anchors)) + ' links to images')\n",
    "anchors[:5]"
   ]
  },
  {
   "cell_type": "code",
   "execution_count": 7,
   "metadata": {},
   "outputs": [
    {
     "data": {
      "text/plain": [
       "['https://instagram.fdel11-1.fna.fbcdn.net/v/t51.2885-15/e35/210896014_850288119221858_8772075122378219237_n.jpg?_nc_ht=instagram.fdel11-1.fna.fbcdn.net&_nc_cat=102&_nc_ohc=KYwr7eUKntYAX9wwU5a&edm=AABBvjUBAAAA&ccb=7-4&oh=69918d1f4b8e0d8259448b893117b341&oe=60F578C6&_nc_sid=83d603',\n",
       " 'https://instagram.fdel11-2.fna.fbcdn.net/v/t51.2885-15/e35/213792525_493861721673437_2570450255971190583_n.jpg?_nc_ht=instagram.fdel11-2.fna.fbcdn.net&_nc_cat=105&_nc_ohc=2CFRpjDnvPwAX9uJVKl&edm=AABBvjUBAAAA&ccb=7-4&oh=115d8cd8c77b8bb7453da0130ec5dc3f&oe=60F5BC3C&_nc_sid=83d603',\n",
       " 'https://instagram.fdel11-2.fna.fbcdn.net/v/t51.2885-15/e35/210115702_187991243334752_7484376463770944368_n.jpg?_nc_ht=instagram.fdel11-2.fna.fbcdn.net&_nc_cat=108&_nc_ohc=QNwXxO4UfHkAX_Sd_GF&edm=AABBvjUBAAAA&ccb=7-4&oh=c4f9a72a1fcc9a325caac6480ee6ca91&oe=60F485C6&_nc_sid=83d603',\n",
       " 'https://instagram.fdel11-2.fna.fbcdn.net/v/t51.2885-15/e35/s1080x1080/211957672_150490150505898_7721062751111276347_n.jpg?_nc_ht=instagram.fdel11-2.fna.fbcdn.net&_nc_cat=106&_nc_ohc=lO6mWv1dsUAAX-zB7zP&edm=AABBvjUBAAAA&ccb=7-4&oh=0dd5ff3ceb01fb744bbeb82deaa0262f&oe=60F5A4BD&_nc_sid=83d603',\n",
       " 'https://instagram.fdel11-1.fna.fbcdn.net/v/t51.2885-15/e35/s1080x1080/210663315_1737943273067820_8132532043628130172_n.jpg?_nc_ht=instagram.fdel11-1.fna.fbcdn.net&_nc_cat=100&_nc_ohc=_bBdmEC1fe4AX82zmiR&edm=AABBvjUBAAAA&ccb=7-4&oh=295866d5c6dd9c2b1b97cf90257edaf1&oe=60F46CB5&_nc_sid=83d603']"
      ]
     },
     "execution_count": 7,
     "metadata": {},
     "output_type": "execute_result"
    }
   ],
   "source": [
    "images = []\n",
    "\n",
    "#follow each image link and extract only image at index=1\n",
    "for a in anchors:\n",
    "    driver.get(a)\n",
    "    time.sleep(5)\n",
    "    img = driver.find_elements_by_tag_name('img')\n",
    "    img = [i.get_attribute('src') for i in img]\n",
    "    images.append(img[1])\n",
    "    \n",
    "images[:5]    "
   ]
  },
  {
   "cell_type": "markdown",
   "metadata": {},
   "source": [
    "## Saved images to computer\n",
    "\n",
    "First created a new folder for our images somewhere on our computer.\n",
    "<br>\n",
    "Then, saved all the images there."
   ]
  },
  {
   "cell_type": "code",
   "execution_count": 8,
   "metadata": {},
   "outputs": [
    {
     "data": {
      "text/plain": [
       "'C:\\\\Users\\\\talha\\\\Downloads\\\\covaxin'"
      ]
     },
     "execution_count": 8,
     "metadata": {},
     "output_type": "execute_result"
    }
   ],
   "source": [
    "import os\n",
    "import wget\n",
    "\n",
    "path = os.getcwd()\n",
    "path = os.path.join(path, keyword[1:])\n",
    "\n",
    "#create the directory\n",
    "os.mkdir(path)\n",
    "\n",
    "path"
   ]
  },
  {
   "cell_type": "code",
   "execution_count": 9,
   "metadata": {},
   "outputs": [
    {
     "name": "stdout",
     "output_type": "stream",
     "text": [
      "100% [..............................................................................] 75302 / 75302"
     ]
    }
   ],
   "source": [
    "#downloaded images\n",
    "counter = 0\n",
    "for image in images:\n",
    "    save_as = os.path.join(path, keyword[1:] + str(counter) + '.jpg')\n",
    "    wget.download(image, save_as)\n",
    "    counter += 1"
   ]
  }
 ],
 "metadata": {
  "kernelspec": {
   "display_name": "Python 3",
   "language": "python",
   "name": "python3"
  },
  "language_info": {
   "codemirror_mode": {
    "name": "ipython",
    "version": 3
   },
   "file_extension": ".py",
   "mimetype": "text/x-python",
   "name": "python",
   "nbconvert_exporter": "python",
   "pygments_lexer": "ipython3",
   "version": "3.8.5"
  }
 },
 "nbformat": 4,
 "nbformat_minor": 4
}
